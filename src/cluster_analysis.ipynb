{
 "cells": [
  {
   "cell_type": "code",
   "execution_count": 3,
   "metadata": {},
   "outputs": [],
   "source": [
    "import json\n",
    "import pandas as pd"
   ]
  },
  {
   "cell_type": "code",
   "execution_count": 4,
   "metadata": {},
   "outputs": [],
   "source": [
    "champion_file = '../data/championFull.json'\n",
    "with open(champion_file) as f:\n",
    "    champs = json.load(f) \n",
    "# what we need is champs['data']  champs['keys'] "
   ]
  },
  {
   "cell_type": "markdown",
   "metadata": {},
   "source": [
    "\n",
    "## Prepare data\n"
   ]
  },
  {
   "cell_type": "code",
   "execution_count": 4,
   "metadata": {
    "scrolled": false
   },
   "outputs": [],
   "source": [
    "champ_id_name = champs['keys'] \n",
    "all_champion_data = champs['data']\n",
    "champion_item = []\n",
    "\n",
    "for k,v in all_champion_data.items():\n",
    "    champion_dict = {}\n",
    "    champion_dict['id'] = v['key']\n",
    "    champion_dict['name'] = v['name']\n",
    "    champion_dict['title'] = v['title']\n",
    "    champion_dict['tags'] = v['tags']\n",
    "    champion_dict['attack_sta'] = v['info']['attack']\n",
    "    champion_dict['defense_sta'] = v['info']['defense']\n",
    "    champion_dict['magic_sta'] = v['info']['magic']\n",
    "    champion_dict['difficulty_sta'] = v['info']['difficulty']\n",
    "    \n",
    "    spell = v['spells']\n",
    "    spell_info = []\n",
    "    for i in spell:\n",
    "        spell_info.append(i['description'])\n",
    "    \n",
    "    spell_desc = ' '.join(spell_info)\n",
    "    champion_dict['ability_desc'] = spell_desc\n",
    "    \n",
    "    champion_item.append(champion_dict)"
   ]
  },
  {
   "cell_type": "code",
   "execution_count": 5,
   "metadata": {},
   "outputs": [
    {
     "data": {
      "text/html": [
       "<div>\n",
       "<style scoped>\n",
       "    .dataframe tbody tr th:only-of-type {\n",
       "        vertical-align: middle;\n",
       "    }\n",
       "\n",
       "    .dataframe tbody tr th {\n",
       "        vertical-align: top;\n",
       "    }\n",
       "\n",
       "    .dataframe thead th {\n",
       "        text-align: right;\n",
       "    }\n",
       "</style>\n",
       "<table border=\"1\" class=\"dataframe\">\n",
       "  <thead>\n",
       "    <tr style=\"text-align: right;\">\n",
       "      <th></th>\n",
       "      <th>id</th>\n",
       "      <th>name</th>\n",
       "      <th>title</th>\n",
       "      <th>tags</th>\n",
       "      <th>attack_sta</th>\n",
       "      <th>defense_sta</th>\n",
       "      <th>magic_sta</th>\n",
       "      <th>difficulty_sta</th>\n",
       "      <th>ability_desc</th>\n",
       "    </tr>\n",
       "  </thead>\n",
       "  <tbody>\n",
       "    <tr>\n",
       "      <th>0</th>\n",
       "      <td>266</td>\n",
       "      <td>Aatrox</td>\n",
       "      <td>the Darkin Blade</td>\n",
       "      <td>[Fighter, Tank]</td>\n",
       "      <td>8</td>\n",
       "      <td>4</td>\n",
       "      <td>3</td>\n",
       "      <td>4</td>\n",
       "      <td>Aatrox slams his greatsword down, dealing phys...</td>\n",
       "    </tr>\n",
       "    <tr>\n",
       "      <th>1</th>\n",
       "      <td>103</td>\n",
       "      <td>Ahri</td>\n",
       "      <td>the Nine-Tailed Fox</td>\n",
       "      <td>[Mage, Assassin]</td>\n",
       "      <td>3</td>\n",
       "      <td>4</td>\n",
       "      <td>8</td>\n",
       "      <td>5</td>\n",
       "      <td>Ahri sends out and pulls back her orb, dealing...</td>\n",
       "    </tr>\n",
       "    <tr>\n",
       "      <th>2</th>\n",
       "      <td>84</td>\n",
       "      <td>Akali</td>\n",
       "      <td>the Rogue Assassin</td>\n",
       "      <td>[Assassin]</td>\n",
       "      <td>5</td>\n",
       "      <td>3</td>\n",
       "      <td>8</td>\n",
       "      <td>7</td>\n",
       "      <td>Akali throws out five kunai, dealing damage ba...</td>\n",
       "    </tr>\n",
       "    <tr>\n",
       "      <th>3</th>\n",
       "      <td>12</td>\n",
       "      <td>Alistar</td>\n",
       "      <td>the Minotaur</td>\n",
       "      <td>[Tank, Support]</td>\n",
       "      <td>6</td>\n",
       "      <td>9</td>\n",
       "      <td>5</td>\n",
       "      <td>7</td>\n",
       "      <td>Alistar smashes the ground, dealing damage to ...</td>\n",
       "    </tr>\n",
       "    <tr>\n",
       "      <th>4</th>\n",
       "      <td>32</td>\n",
       "      <td>Amumu</td>\n",
       "      <td>the Sad Mummy</td>\n",
       "      <td>[Tank, Mage]</td>\n",
       "      <td>2</td>\n",
       "      <td>6</td>\n",
       "      <td>8</td>\n",
       "      <td>3</td>\n",
       "      <td>Amumu tosses a sticky bandage at a target, stu...</td>\n",
       "    </tr>\n",
       "  </tbody>\n",
       "</table>\n",
       "</div>"
      ],
      "text/plain": [
       "    id     name                title              tags  attack_sta  \\\n",
       "0  266   Aatrox     the Darkin Blade   [Fighter, Tank]           8   \n",
       "1  103     Ahri  the Nine-Tailed Fox  [Mage, Assassin]           3   \n",
       "2   84    Akali   the Rogue Assassin        [Assassin]           5   \n",
       "3   12  Alistar         the Minotaur   [Tank, Support]           6   \n",
       "4   32    Amumu        the Sad Mummy      [Tank, Mage]           2   \n",
       "\n",
       "   defense_sta  magic_sta  difficulty_sta  \\\n",
       "0            4          3               4   \n",
       "1            4          8               5   \n",
       "2            3          8               7   \n",
       "3            9          5               7   \n",
       "4            6          8               3   \n",
       "\n",
       "                                        ability_desc  \n",
       "0  Aatrox slams his greatsword down, dealing phys...  \n",
       "1  Ahri sends out and pulls back her orb, dealing...  \n",
       "2  Akali throws out five kunai, dealing damage ba...  \n",
       "3  Alistar smashes the ground, dealing damage to ...  \n",
       "4  Amumu tosses a sticky bandage at a target, stu...  "
      ]
     },
     "execution_count": 5,
     "metadata": {},
     "output_type": "execute_result"
    }
   ],
   "source": [
    "columns = ['id','name','title','tags','attack_sta','defense_sta','magic_sta','difficulty_sta','ability_desc']\n",
    "champ_pd = pd.DataFrame(champion_item)\n",
    "champ_pd.head()"
   ]
  },
  {
   "cell_type": "markdown",
   "metadata": {},
   "source": [
    "## Make clustering"
   ]
  },
  {
   "cell_type": "code",
   "execution_count": 6,
   "metadata": {
    "scrolled": true
   },
   "outputs": [
    {
     "name": "stdout",
     "output_type": "stream",
     "text": [
      "**Marksman**:['Aphelios', 'Ashe', 'Azir', 'Caitlyn', 'Corki', 'Draven', 'Ezreal', 'Graves', 'Jayce', 'Jhin', 'Jinx', \"Kai'Sa\", 'Kalista', 'Kennen', 'Kindred', \"Kog'Maw\", 'Lucian', 'Miss Fortune', 'Quinn', 'Samira', 'Senna', 'Sivir', 'Teemo', 'Tristana', 'Twitch', 'Varus', 'Vayne', 'Xayah']\n",
      "=====================================================================================================================\n",
      "**Fighter**:['Aatrox', 'Blitzcrank', 'Camille', 'Darius', 'Diana', 'Dr. Mundo', 'Ekko', 'Elise', 'Fiora', 'Fizz', 'Gangplank', 'Garen', 'Gnar', 'Gragas', 'Hecarim', 'Illaoi', 'Irelia', 'Jarvan IV', 'Jax', 'Jayce', 'Kayle', 'Kayn', 'Kled', 'Lee Sin', 'Lillia', 'Malphite', 'Master Yi', 'Wukong', 'Mordekaiser', 'Nasus', 'Nautilus', 'Nocturne', 'Nunu & Willump', 'Olaf', 'Ornn', 'Pantheon', 'Poppy', 'Qiyana', 'Rammus', \"Rek'Sai\", 'Renekton', 'Rengar', 'Riven', 'Rumble', 'Ryze', 'Sejuani', 'Sett', 'Shyvana', 'Singed', 'Sion', 'Skarner', 'Swain', 'Taric', 'Thresh', 'Trundle', 'Tryndamere', 'Udyr', 'Urgot', 'Vi', 'Volibear', 'Warwick', 'Xin Zhao', 'Yasuo', 'Yone', 'Yorick', 'Zac']\n",
      "=====================================================================================================================\n",
      "**Tank**:['Aatrox', 'Alistar', 'Amumu', 'Blitzcrank', 'Braum', 'Camille', \"Cho'Gath\", 'Darius', 'Dr. Mundo', 'Galio', 'Garen', 'Gnar', 'Hecarim', 'Illaoi', 'Jarvan IV', 'Kled', 'Leona', 'Malphite', 'Maokai', 'Wukong', 'Nasus', 'Nautilus', 'Nunu & Willump', 'Olaf', 'Ornn', 'Poppy', 'Rammus', 'Renekton', 'Sejuani', 'Sett', 'Shen', 'Shyvana', 'Singed', 'Sion', 'Skarner', 'Tahm Kench', 'Trundle', 'Udyr', 'Urgot', 'Volibear', 'Warwick', 'Yorick', 'Zac']\n",
      "=====================================================================================================================\n",
      "**Assassin**:['Ahri', 'Akali', 'Ekko', 'Evelynn', 'Fiora', 'Fizz', 'Irelia', 'Jax', 'Kassadin', 'Katarina', 'Kayn', \"Kha'Zix\", 'LeBlanc', 'Lee Sin', 'Malzahar', 'Master Yi', 'Nidalee', 'Nocturne', 'Pantheon', 'Pyke', 'Qiyana', 'Quinn', 'Rengar', 'Riven', 'Shaco', 'Sylas', 'Talon', 'Teemo', 'Tristana', 'Tryndamere', 'Twitch', 'Vayne', 'Vi', 'Xin Zhao', 'Yasuo', 'Yone', 'Zed']\n",
      "=====================================================================================================================\n",
      "**Support**:['Alistar', 'Anivia', 'Ashe', 'Bard', 'Braum', 'Fiddlesticks', 'Heimerdinger', 'Ivern', 'Janna', 'Karma', 'Kayle', 'Leona', 'Lulu', 'Lux', 'Morgana', 'Nami', 'Neeko', 'Orianna', 'Pyke', 'Rakan', 'Senna', 'Sona', 'Soraka', 'Syndra', 'Tahm Kench', 'Taliyah', 'Taric', 'Thresh', 'Yuumi', 'Zilean', 'Zoe', 'Zyra']\n",
      "=====================================================================================================================\n",
      "**Mage**:['Ahri', 'Amumu', 'Anivia', 'Annie', 'Aurelion Sol', 'Azir', 'Bard', 'Brand', 'Cassiopeia', \"Cho'Gath\", 'Diana', 'Elise', 'Evelynn', 'Ezreal', 'Fiddlesticks', 'Galio', 'Gragas', 'Heimerdinger', 'Ivern', 'Janna', 'Jhin', 'Karma', 'Karthus', 'Kassadin', 'Katarina', 'Kennen', \"Kog'Maw\", 'LeBlanc', 'Lillia', 'Lissandra', 'Lulu', 'Lux', 'Malzahar', 'Maokai', 'Morgana', 'Nami', 'Neeko', 'Nidalee', 'Orianna', 'Rumble', 'Ryze', 'Sona', 'Soraka', 'Swain', 'Sylas', 'Syndra', 'Taliyah', 'Twisted Fate', 'Varus', 'Veigar', \"Vel'Koz\", 'Viktor', 'Vladimir', 'Xerath', 'Yuumi', 'Ziggs', 'Zilean', 'Zoe', 'Zyra']\n",
      "=====================================================================================================================\n"
     ]
    }
   ],
   "source": [
    "#1. cluster based on tags\n",
    "tags = list(champ_pd.tags)\n",
    "tag_set = set()\n",
    "for i in tags:\n",
    "    for j in i:\n",
    "        tag_set.add(j)\n",
    "\n",
    "# build a cluster based on tag\n",
    "cluster_dict = {}\n",
    "for i in tag_set:\n",
    "    cluster_dict.setdefault(i,[])\n",
    "    \n",
    "for index,row in champ_pd.iterrows():\n",
    "    tags = row['tags']\n",
    "    name = row['name']\n",
    "    for each_tag in tags:\n",
    "        cluster_dict[each_tag].append(name)  \n",
    "        \n",
    "for tag,champs in cluster_dict.items():\n",
    "    print(f'**{tag}**:{champs}')\n",
    "    print('='*117)"
   ]
  },
  {
   "cell_type": "code",
   "execution_count": 7,
   "metadata": {},
   "outputs": [
    {
     "name": "stdout",
     "output_type": "stream",
     "text": [
      "      name  attack  defense  magic  diff\n",
      "0   Aatrox       8        4      3     4\n",
      "1     Ahri       3        4      8     5\n",
      "2    Akali       5        3      8     7\n",
      "3  Alistar       6        9      5     7\n",
      "4    Amumu       2        6      8     3\n",
      "\n",
      "      name    attack   defense     magic      diff\n",
      "0   Aatrox  0.899647 -0.325225 -0.864117 -0.849768\n",
      "1     Ahri -0.887810 -0.325225  0.953177 -0.370981\n",
      "2    Akali -0.172827 -0.806685  0.953177  0.586593\n",
      "3  Alistar  0.184664  2.082075 -0.137200  0.586593\n",
      "4    Amumu -1.245301  0.637695  0.953177 -1.328555\n",
      "\n",
      "**1**:['Aatrox', 'Ashe', 'Camille', 'Darius', 'Fiora', 'Garen', 'Graves', 'Illaoi', 'Kindred', 'Master Yi', 'Miss Fortune', 'Wukong', 'Nocturne', 'Olaf', 'Pantheon', 'Quinn', \"Rek'Sai\", 'Renekton', 'Sett', 'Shyvana', 'Sivir', 'Skarner', 'Tristana', 'Trundle', 'Tryndamere', 'Varus', 'Vi', 'Warwick', 'Xayah', 'Xin Zhao']\n",
      "=====================================================================================================================\n",
      "**4**:['Ahri', 'Amumu', 'Brand', \"Cho'Gath\", 'Diana', 'Fizz', 'Ivern', 'Janna', 'Jax', 'Karma', 'Kayle', 'Kennen', 'Lissandra', 'Lulu', 'Lux', 'Mordekaiser', 'Morgana', 'Nami', 'Nautilus', 'Nunu & Willump', 'Rakan', 'Sona', 'Soraka', 'Sylas', 'Taliyah', 'Teemo', 'Thresh', 'Vladimir', 'Yuumi', 'Zac', 'Ziggs', 'Zilean', 'Zoe']\n",
      "=====================================================================================================================\n",
      "**0**:['Akali', 'Anivia', 'Annie', 'Aurelion Sol', 'Azir', 'Bard', 'Cassiopeia', 'Ekko', 'Elise', 'Evelynn', 'Fiddlesticks', 'Heimerdinger', 'Karthus', 'Kassadin', 'Katarina', 'LeBlanc', 'Lillia', 'Malzahar', 'Neeko', 'Nidalee', 'Orianna', 'Qiyana', 'Rumble', 'Ryze', 'Swain', 'Syndra', 'Twisted Fate', 'Veigar', \"Vel'Koz\", 'Viktor', 'Xerath', 'Zyra']\n",
      "=====================================================================================================================\n",
      "**3**:['Alistar', 'Blitzcrank', 'Braum', 'Dr. Mundo', 'Galio', 'Gragas', 'Jarvan IV', 'Leona', 'Malphite', 'Maokai', 'Ornn', 'Poppy', 'Rammus', 'Sejuani', 'Shen', 'Singed', 'Sion', 'Tahm Kench', 'Taric', 'Volibear']\n",
      "=====================================================================================================================\n",
      "**2**:['Aphelios', 'Caitlyn', 'Corki', 'Draven', 'Ezreal', 'Gangplank', 'Gnar', 'Hecarim', 'Irelia', 'Jayce', 'Jhin', 'Jinx', \"Kai'Sa\", 'Kalista', 'Kayn', \"Kha'Zix\", 'Kled', \"Kog'Maw\", 'Lee Sin', 'Lucian', 'Nasus', 'Pyke', 'Rengar', 'Riven', 'Samira', 'Senna', 'Shaco', 'Talon', 'Twitch', 'Udyr', 'Urgot', 'Vayne', 'Yasuo', 'Yone', 'Yorick', 'Zed']\n",
      "=====================================================================================================================\n"
     ]
    }
   ],
   "source": [
    "#2. cluster based on statistics \n",
    "stats_pd = pd.DataFrame({'name':champ_pd.name,'attack':champ_pd.attack_sta,'defense':champ_pd.defense_sta,\\\n",
    "                         'magic':champ_pd.magic_sta,'diff':champ_pd.difficulty_sta})\n",
    "print(stats_pd.head(),end='\\n\\n')\n",
    "\n",
    "\n",
    "stats_pd.attack = (stats_pd.attack - stats_pd.attack.describe()['mean'])/ stats_pd.attack.describe()['std']\n",
    "stats_pd.defense = (stats_pd.defense - stats_pd.defense.describe()['mean'])/ stats_pd.defense.describe()['std']\n",
    "stats_pd.magic = (stats_pd.magic - stats_pd.magic.describe()['mean'])/ stats_pd.magic.describe()['std']\n",
    "stats_pd['diff'] = (stats_pd['diff'] - stats_pd['diff'].describe()['mean'])/ stats_pd['diff'].describe()['std']\n",
    "print(stats_pd.head(),end='\\n\\n')\n",
    "\n",
    "from sklearn.cluster import KMeans\n",
    "kmeans = KMeans(n_clusters=5, random_state=10).fit(stats_pd[['attack','defense','magic','diff']])\n",
    "cluster_res = kmeans.labels_\n",
    "cluster_res\n",
    "cluster_kmeans = {}\n",
    "for index,cluster_id in enumerate(cluster_res):\n",
    "    name = stats_pd.iloc[index]['name']\n",
    "    cluster_kmeans[cluster_id] = cluster_kmeans.get(cluster_id,[])\n",
    "    cluster_kmeans[cluster_id].append(name)\n",
    "for tag,champs in cluster_kmeans.items():\n",
    "    print(f'**{tag}**:{champs}')\n",
    "    print('='*117) "
   ]
  },
  {
   "cell_type": "code",
   "execution_count": 8,
   "metadata": {},
   "outputs": [],
   "source": [
    "#3. clusetr based on skill descrpitions"
   ]
  },
  {
   "cell_type": "code",
   "execution_count": 9,
   "metadata": {},
   "outputs": [
    {
     "data": {
      "text/html": [
       "<div>\n",
       "<style scoped>\n",
       "    .dataframe tbody tr th:only-of-type {\n",
       "        vertical-align: middle;\n",
       "    }\n",
       "\n",
       "    .dataframe tbody tr th {\n",
       "        vertical-align: top;\n",
       "    }\n",
       "\n",
       "    .dataframe thead th {\n",
       "        text-align: right;\n",
       "    }\n",
       "</style>\n",
       "<table border=\"1\" class=\"dataframe\">\n",
       "  <thead>\n",
       "    <tr style=\"text-align: right;\">\n",
       "      <th></th>\n",
       "      <th>name</th>\n",
       "      <th>skill_desc</th>\n",
       "    </tr>\n",
       "  </thead>\n",
       "  <tbody>\n",
       "    <tr>\n",
       "      <th>0</th>\n",
       "      <td>Aatrox</td>\n",
       "      <td>Aatrox slams his greatsword down, dealing phys...</td>\n",
       "    </tr>\n",
       "    <tr>\n",
       "      <th>1</th>\n",
       "      <td>Ahri</td>\n",
       "      <td>Ahri sends out and pulls back her orb, dealing...</td>\n",
       "    </tr>\n",
       "    <tr>\n",
       "      <th>2</th>\n",
       "      <td>Akali</td>\n",
       "      <td>Akali throws out five kunai, dealing damage ba...</td>\n",
       "    </tr>\n",
       "    <tr>\n",
       "      <th>3</th>\n",
       "      <td>Alistar</td>\n",
       "      <td>Alistar smashes the ground, dealing damage to ...</td>\n",
       "    </tr>\n",
       "    <tr>\n",
       "      <th>4</th>\n",
       "      <td>Amumu</td>\n",
       "      <td>Amumu tosses a sticky bandage at a target, stu...</td>\n",
       "    </tr>\n",
       "  </tbody>\n",
       "</table>\n",
       "</div>"
      ],
      "text/plain": [
       "      name                                         skill_desc\n",
       "0   Aatrox  Aatrox slams his greatsword down, dealing phys...\n",
       "1     Ahri  Ahri sends out and pulls back her orb, dealing...\n",
       "2    Akali  Akali throws out five kunai, dealing damage ba...\n",
       "3  Alistar  Alistar smashes the ground, dealing damage to ...\n",
       "4    Amumu  Amumu tosses a sticky bandage at a target, stu..."
      ]
     },
     "execution_count": 9,
     "metadata": {},
     "output_type": "execute_result"
    }
   ],
   "source": [
    "chap_desc_pd =  pd.DataFrame({'name':champ_pd.name,'skill_desc':champ_pd.ability_desc})\n",
    "chap_desc_pd.head()"
   ]
  },
  {
   "cell_type": "code",
   "execution_count": 67,
   "metadata": {},
   "outputs": [],
   "source": [
    "import spacy\n",
    "import time\n",
    "import multiprocessing\n",
    "import gensim\n",
    "from gensim.models import Word2Vec"
   ]
  },
  {
   "cell_type": "code",
   "execution_count": 53,
   "metadata": {},
   "outputs": [
    {
     "data": {
      "text/html": [
       "<div>\n",
       "<style scoped>\n",
       "    .dataframe tbody tr th:only-of-type {\n",
       "        vertical-align: middle;\n",
       "    }\n",
       "\n",
       "    .dataframe tbody tr th {\n",
       "        vertical-align: top;\n",
       "    }\n",
       "\n",
       "    .dataframe thead th {\n",
       "        text-align: right;\n",
       "    }\n",
       "</style>\n",
       "<table border=\"1\" class=\"dataframe\">\n",
       "  <thead>\n",
       "    <tr style=\"text-align: right;\">\n",
       "      <th></th>\n",
       "      <th>name</th>\n",
       "      <th>skill_desc</th>\n",
       "      <th>tokens</th>\n",
       "    </tr>\n",
       "  </thead>\n",
       "  <tbody>\n",
       "    <tr>\n",
       "      <th>0</th>\n",
       "      <td>Aatrox</td>\n",
       "      <td>Aatrox slams his greatsword down, dealing phys...</td>\n",
       "      <td>[Aatrox, slams, greatsword, physical, swing, t...</td>\n",
       "    </tr>\n",
       "    <tr>\n",
       "      <th>1</th>\n",
       "      <td>Ahri</td>\n",
       "      <td>Ahri sends out and pulls back her orb, dealing...</td>\n",
       "      <td>[Ahri, sends, pulls, orb, magic, way, true, wa...</td>\n",
       "    </tr>\n",
       "    <tr>\n",
       "      <th>2</th>\n",
       "      <td>Akali</td>\n",
       "      <td>Akali throws out five kunai, dealing damage ba...</td>\n",
       "      <td>[Akali, throws, kunai, based, bonus, Attack, A...</td>\n",
       "    </tr>\n",
       "    <tr>\n",
       "      <th>3</th>\n",
       "      <td>Alistar</td>\n",
       "      <td>Alistar smashes the ground, dealing damage to ...</td>\n",
       "      <td>[Alistar, smashes, ground, nearby, enemies, to...</td>\n",
       "    </tr>\n",
       "    <tr>\n",
       "      <th>4</th>\n",
       "      <td>Amumu</td>\n",
       "      <td>Amumu tosses a sticky bandage at a target, stu...</td>\n",
       "      <td>[Amumu, tosses, sticky, bandage, target, stunn...</td>\n",
       "    </tr>\n",
       "  </tbody>\n",
       "</table>\n",
       "</div>"
      ],
      "text/plain": [
       "      name                                         skill_desc  \\\n",
       "0   Aatrox  Aatrox slams his greatsword down, dealing phys...   \n",
       "1     Ahri  Ahri sends out and pulls back her orb, dealing...   \n",
       "2    Akali  Akali throws out five kunai, dealing damage ba...   \n",
       "3  Alistar  Alistar smashes the ground, dealing damage to ...   \n",
       "4    Amumu  Amumu tosses a sticky bandage at a target, stu...   \n",
       "\n",
       "                                              tokens  \n",
       "0  [Aatrox, slams, greatsword, physical, swing, t...  \n",
       "1  [Ahri, sends, pulls, orb, magic, way, true, wa...  \n",
       "2  [Akali, throws, kunai, based, bonus, Attack, A...  \n",
       "3  [Alistar, smashes, ground, nearby, enemies, to...  \n",
       "4  [Amumu, tosses, sticky, bandage, target, stunn...  "
      ]
     },
     "execution_count": 53,
     "metadata": {},
     "output_type": "execute_result"
    }
   ],
   "source": [
    "nlp = spacy.load('en_core_web_sm')\n",
    "nlp.Defaults.stop_words |= {\"dealing\",'damage','deal','enemy','damages'}\n",
    "\n",
    "all_tokens = []\n",
    "for index, row in chap_desc_pd.iterrows():\n",
    "    desc_tokens = []\n",
    "    doc = nlp(row['skill_desc'])\n",
    "    for token in doc:\n",
    "        lexeme = nlp.vocab[token.text]\n",
    "        if lexeme.is_stop == False and lexeme.is_punct == False:\n",
    "            desc_tokens.append(lexeme.text)\n",
    "    all_tokens.append(desc_tokens)\n",
    "        \n",
    "chap_desc_pd['tokens'] = all_tokens\n",
    "chap_desc_pd.head()\n",
    "# chap_desc_pd.tokens.describe()['top']  check the top words "
   ]
  },
  {
   "cell_type": "code",
   "execution_count": 63,
   "metadata": {},
   "outputs": [
    {
     "name": "stdout",
     "output_type": "stream",
     "text": [
      "Time to build vocab: 0.01 mins\n"
     ]
    },
    {
     "name": "stderr",
     "output_type": "stream",
     "text": [
      "/opt/anaconda3/envs/Knowledge_Graph/lib/python3.6/site-packages/ipykernel_launcher.py:22: DeprecationWarning: Call to deprecated `__getitem__` (Method will be removed in 4.0.0, use self.wv.__getitem__() instead).\n"
     ]
    },
    {
     "data": {
      "text/plain": [
       "2189"
      ]
     },
     "execution_count": 63,
     "metadata": {},
     "output_type": "execute_result"
    }
   ],
   "source": [
    "cores = multiprocessing.cpu_count() # Count the number of cores in a computer\n",
    "w2v_model = Word2Vec(min_count=1,\n",
    "                     window=4,\n",
    "                     size=300,\n",
    "                     sample=6e-5, \n",
    "                     alpha=0.03, \n",
    "                     min_alpha=0.0007, \n",
    "                     negative=20,\n",
    "                     workers=cores-1)\n",
    "sentences = list(chap_desc_pd.tokens)\n",
    "\n",
    "t = time.time()\n",
    "w2v_model.build_vocab(sentences, progress_per=10000)\n",
    "print('Time to build vocab: {} mins'.format(round((time.time() - t) / 60, 2)))\n",
    "\n",
    "#获取model里面的说有关键词\n",
    "keys=w2v_model.wv.vocab.keys()\n",
    "\n",
    "#获取词对于的词向量\n",
    "wordvector=[]\n",
    "for key in keys:\n",
    "    wordvector.append(w2v_model[key])\n",
    "len(wordvector)"
   ]
  },
  {
   "cell_type": "code",
   "execution_count": 77,
   "metadata": {},
   "outputs": [
    {
     "name": "stdout",
     "output_type": "stream",
     "text": [
      "Number of texts processed: 151\n"
     ]
    },
    {
     "name": "stderr",
     "output_type": "stream",
     "text": [
      "/opt/anaconda3/envs/Knowledge_Graph/lib/python3.6/site-packages/gensim/models/doc2vec.py:319: UserWarning: The parameter `size` is deprecated, will be removed in 4.0.0, use `vector_size` instead.\n",
      "  warnings.warn(\"The parameter `size` is deprecated, will be removed in 4.0.0, use `vector_size` instead.\")\n"
     ]
    }
   ],
   "source": [
    "# use doc2Vec 关于doc2Vec的使用？？？\n",
    "from gensim.models import Doc2Vec\n",
    "\n",
    "doc_label = list(chap_desc_pd['name'])\n",
    "setences = list(chap_desc_pd.tokens)\n",
    "\n",
    "\n",
    "LabeledSentence1 = gensim.models.doc2vec.TaggedDocument\n",
    "all_content_train = []\n",
    "j=0\n",
    "for em in setences:\n",
    "    all_content_train.append(LabeledSentence1(em,[doc_label[j]]))\n",
    "    j+=1\n",
    "print('Number of texts processed:', j)\n",
    "\n",
    "d2v_model = Doc2Vec(all_content_train, size = 300, window = 5, min_count = 2, workers=7, dm = 1,alpha=0.025, min_alpha=0.001)\n",
    "d2v_model.train(all_content_train, total_examples=d2v_model.corpus_count, epochs=10, start_alpha=0.002, end_alpha=-0.016)"
   ]
  },
  {
   "cell_type": "code",
   "execution_count": 89,
   "metadata": {},
   "outputs": [
    {
     "name": "stderr",
     "output_type": "stream",
     "text": [
      "/opt/anaconda3/envs/Knowledge_Graph/lib/python3.6/site-packages/ipykernel_launcher.py:2: DeprecationWarning: Call to deprecated `doctag_syn0` (Attribute will be removed in 4.0.0, use docvecs.vectors_docs instead).\n",
      "  \n"
     ]
    },
    {
     "data": {
      "text/plain": [
       "array([1, 1, 1, 1, 1, 2, 2, 1, 1, 1, 1, 1, 1, 1, 1, 1, 1, 1, 2, 1, 1, 1,\n",
       "       1, 1, 1, 1, 2, 2, 2, 1, 1, 1, 3, 2, 1, 1, 2, 1, 1, 1, 2, 2, 1, 1,\n",
       "       1, 1, 1, 2, 1, 2, 1, 2, 2, 2, 2, 2, 2, 1, 2, 2, 2, 2, 1, 2, 2, 3,\n",
       "       2, 2, 2, 2, 2, 2, 1, 2, 2, 2, 2, 3, 2, 3, 3, 3, 2, 3, 3, 2, 2, 3,\n",
       "       3, 2, 2, 3, 2, 3, 3, 2, 2, 2, 3, 0, 3, 3, 3, 3, 3, 3, 4, 0, 3, 3,\n",
       "       3, 3, 3, 3, 3, 3, 0, 3, 2, 3, 3, 0, 3, 0, 3, 3, 3, 3, 3, 3, 3, 3,\n",
       "       3, 3, 4, 0, 4, 3, 0, 0, 3, 4, 4, 3, 4, 3, 4, 4, 0, 4, 4],\n",
       "      dtype=int32)"
      ]
     },
     "execution_count": 89,
     "metadata": {},
     "output_type": "execute_result"
    }
   ],
   "source": [
    "kmeans_model = KMeans(n_clusters=5, init='k-means++', max_iter=100) \n",
    "X = kmeans_model.fit(d2v_model.docvecs.doctag_syn0)\n",
    "cluster_res2=kmeans_model.labels_\n",
    "\n",
    "cluster_res2"
   ]
  },
  {
   "cell_type": "code",
   "execution_count": 90,
   "metadata": {},
   "outputs": [
    {
     "name": "stdout",
     "output_type": "stream",
     "text": [
      "**1**:['Aatrox', 'Ashe', 'Camille', 'Darius', 'Fiora', 'Garen', 'Graves', 'Illaoi', 'Kindred', 'Master Yi', 'Miss Fortune', 'Wukong', 'Nocturne', 'Olaf', 'Pantheon', 'Quinn', \"Rek'Sai\", 'Renekton', 'Sett', 'Shyvana', 'Sivir', 'Skarner', 'Tristana', 'Trundle', 'Tryndamere', 'Varus', 'Vi', 'Warwick', 'Xayah', 'Xin Zhao']\n",
      "=====================================================================================================================\n",
      "**4**:['Ahri', 'Amumu', 'Brand', \"Cho'Gath\", 'Diana', 'Fizz', 'Ivern', 'Janna', 'Jax', 'Karma', 'Kayle', 'Kennen', 'Lissandra', 'Lulu', 'Lux', 'Mordekaiser', 'Morgana', 'Nami', 'Nautilus', 'Nunu & Willump', 'Rakan', 'Sona', 'Soraka', 'Sylas', 'Taliyah', 'Teemo', 'Thresh', 'Vladimir', 'Yuumi', 'Zac', 'Ziggs', 'Zilean', 'Zoe']\n",
      "=====================================================================================================================\n",
      "**0**:['Akali', 'Anivia', 'Annie', 'Aurelion Sol', 'Azir', 'Bard', 'Cassiopeia', 'Ekko', 'Elise', 'Evelynn', 'Fiddlesticks', 'Heimerdinger', 'Karthus', 'Kassadin', 'Katarina', 'LeBlanc', 'Lillia', 'Malzahar', 'Neeko', 'Nidalee', 'Orianna', 'Qiyana', 'Rumble', 'Ryze', 'Swain', 'Syndra', 'Twisted Fate', 'Veigar', \"Vel'Koz\", 'Viktor', 'Xerath', 'Zyra']\n",
      "=====================================================================================================================\n",
      "**3**:['Alistar', 'Blitzcrank', 'Braum', 'Dr. Mundo', 'Galio', 'Gragas', 'Jarvan IV', 'Leona', 'Malphite', 'Maokai', 'Ornn', 'Poppy', 'Rammus', 'Sejuani', 'Shen', 'Singed', 'Sion', 'Tahm Kench', 'Taric', 'Volibear']\n",
      "=====================================================================================================================\n",
      "**2**:['Aphelios', 'Caitlyn', 'Corki', 'Draven', 'Ezreal', 'Gangplank', 'Gnar', 'Hecarim', 'Irelia', 'Jayce', 'Jhin', 'Jinx', \"Kai'Sa\", 'Kalista', 'Kayn', \"Kha'Zix\", 'Kled', \"Kog'Maw\", 'Lee Sin', 'Lucian', 'Nasus', 'Pyke', 'Rengar', 'Riven', 'Samira', 'Senna', 'Shaco', 'Talon', 'Twitch', 'Udyr', 'Urgot', 'Vayne', 'Yasuo', 'Yone', 'Yorick', 'Zed']\n",
      "=====================================================================================================================\n"
     ]
    }
   ],
   "source": [
    "cluster_kmeans = {}\n",
    "for index,cluster_id in enumerate(cluster_res):\n",
    "    name = stats_pd.iloc[index]['name']\n",
    "    cluster_kmeans[cluster_id] = cluster_kmeans.get(cluster_id,[])\n",
    "    cluster_kmeans[cluster_id].append(name)\n",
    "for tag,champs in cluster_kmeans.items():\n",
    "    print(f'**{tag}**:{champs}')\n",
    "    print('='*117) "
   ]
  },
  {
   "cell_type": "code",
   "execution_count": null,
   "metadata": {},
   "outputs": [],
   "source": []
  }
 ],
 "metadata": {
  "kernelspec": {
   "display_name": "Knowledge_Graph",
   "language": "python",
   "name": "knowledge_graph"
  },
  "language_info": {
   "codemirror_mode": {
    "name": "ipython",
    "version": 3
   },
   "file_extension": ".py",
   "mimetype": "text/x-python",
   "name": "python",
   "nbconvert_exporter": "python",
   "pygments_lexer": "ipython3",
   "version": "3.6.10"
  }
 },
 "nbformat": 4,
 "nbformat_minor": 4
}
